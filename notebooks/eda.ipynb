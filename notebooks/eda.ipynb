{
 "cells": [
  {
   "cell_type": "code",
   "id": "initial_id",
   "metadata": {
    "collapsed": true,
    "jupyter": {
     "is_executing": true
    }
   },
   "source": [
    "import pandas as pd\n",
    "import matplotlib.pyplot as plt\n",
    "from datetime import datetime"
   ],
   "outputs": [],
   "execution_count": null
  },
  {
   "metadata": {
    "ExecuteTime": {
     "end_time": "2025-06-29T23:41:53.656538Z",
     "start_time": "2025-06-29T23:41:50.867259Z"
    }
   },
   "cell_type": "code",
   "source": [
    "ruta = \"../data/noticias_test_ingeniero_IA.xlsx\"\n",
    "df = pd.read_excel(ruta)"
   ],
   "id": "93fcc52bbf3b5661",
   "outputs": [],
   "execution_count": 2
  },
  {
   "metadata": {
    "ExecuteTime": {
     "end_time": "2025-06-29T23:41:53.753825Z",
     "start_time": "2025-06-29T23:41:53.722222Z"
    }
   },
   "cell_type": "code",
   "source": [
    "df.drop(columns=[\"Unnamed: 0\"], inplace=True)\n",
    "df.head()"
   ],
   "id": "2016914624ac66f2",
   "outputs": [
    {
     "data": {
      "text/plain": [
       "                                              titulo  \\\n",
       "0  Provincial Ovalle empata sin goles  como local...   \n",
       "1                       Natalidad en caída y ciencia   \n",
       "2  Turismo de lujo en Chile: experiencias únicas,...   \n",
       "3                            Mon Laferte tenía razón   \n",
       "4                                 El niño cordillera   \n",
       "\n",
       "                                              bajada  \\\n",
       "0                                                NaN   \n",
       "1                                                NaN   \n",
       "2  Un mercado que ha crecido de forma sostenida, ...   \n",
       "3                                                NaN   \n",
       "4                                                NaN   \n",
       "\n",
       "                                              cuerpo  \\\n",
       "0  LUCIANO ALDAY VILLALOBOS Ovalle En la tarde de...   \n",
       "1  La reciente cifra entregada por el INE (Instit...   \n",
       "2  El turismo ha experimentado una transformación...   \n",
       "3  Señor Director: Luego del lamentable hallazgo ...   \n",
       "4  A siete décadas de su hallazgo –realizado por ...   \n",
       "\n",
       "                        nombre_medio  tipo_medio      fecha           seccion  \n",
       "0                        El Ovallino           0 2025-05-31          Deportes  \n",
       "1    La Estrella El Diario de Chiloé           0 2025-05-31        Actualidad  \n",
       "2                         La Tercera           0 2025-05-31               NaN  \n",
       "3                        El Mercurio           0 2025-05-31  OPINIÓN - CARTAS  \n",
       "4  El Mercurio|Vivienda y Decoración           7 2025-05-31        suplemento  "
      ],
      "text/html": [
       "<div>\n",
       "<style scoped>\n",
       "    .dataframe tbody tr th:only-of-type {\n",
       "        vertical-align: middle;\n",
       "    }\n",
       "\n",
       "    .dataframe tbody tr th {\n",
       "        vertical-align: top;\n",
       "    }\n",
       "\n",
       "    .dataframe thead th {\n",
       "        text-align: right;\n",
       "    }\n",
       "</style>\n",
       "<table border=\"1\" class=\"dataframe\">\n",
       "  <thead>\n",
       "    <tr style=\"text-align: right;\">\n",
       "      <th></th>\n",
       "      <th>titulo</th>\n",
       "      <th>bajada</th>\n",
       "      <th>cuerpo</th>\n",
       "      <th>nombre_medio</th>\n",
       "      <th>tipo_medio</th>\n",
       "      <th>fecha</th>\n",
       "      <th>seccion</th>\n",
       "    </tr>\n",
       "  </thead>\n",
       "  <tbody>\n",
       "    <tr>\n",
       "      <th>0</th>\n",
       "      <td>Provincial Ovalle empata sin goles  como local...</td>\n",
       "      <td>NaN</td>\n",
       "      <td>LUCIANO ALDAY VILLALOBOS Ovalle En la tarde de...</td>\n",
       "      <td>El Ovallino</td>\n",
       "      <td>0</td>\n",
       "      <td>2025-05-31</td>\n",
       "      <td>Deportes</td>\n",
       "    </tr>\n",
       "    <tr>\n",
       "      <th>1</th>\n",
       "      <td>Natalidad en caída y ciencia</td>\n",
       "      <td>NaN</td>\n",
       "      <td>La reciente cifra entregada por el INE (Instit...</td>\n",
       "      <td>La Estrella El Diario de Chiloé</td>\n",
       "      <td>0</td>\n",
       "      <td>2025-05-31</td>\n",
       "      <td>Actualidad</td>\n",
       "    </tr>\n",
       "    <tr>\n",
       "      <th>2</th>\n",
       "      <td>Turismo de lujo en Chile: experiencias únicas,...</td>\n",
       "      <td>Un mercado que ha crecido de forma sostenida, ...</td>\n",
       "      <td>El turismo ha experimentado una transformación...</td>\n",
       "      <td>La Tercera</td>\n",
       "      <td>0</td>\n",
       "      <td>2025-05-31</td>\n",
       "      <td>NaN</td>\n",
       "    </tr>\n",
       "    <tr>\n",
       "      <th>3</th>\n",
       "      <td>Mon Laferte tenía razón</td>\n",
       "      <td>NaN</td>\n",
       "      <td>Señor Director: Luego del lamentable hallazgo ...</td>\n",
       "      <td>El Mercurio</td>\n",
       "      <td>0</td>\n",
       "      <td>2025-05-31</td>\n",
       "      <td>OPINIÓN - CARTAS</td>\n",
       "    </tr>\n",
       "    <tr>\n",
       "      <th>4</th>\n",
       "      <td>El niño cordillera</td>\n",
       "      <td>NaN</td>\n",
       "      <td>A siete décadas de su hallazgo –realizado por ...</td>\n",
       "      <td>El Mercurio|Vivienda y Decoración</td>\n",
       "      <td>7</td>\n",
       "      <td>2025-05-31</td>\n",
       "      <td>suplemento</td>\n",
       "    </tr>\n",
       "  </tbody>\n",
       "</table>\n",
       "</div>"
      ]
     },
     "execution_count": 3,
     "metadata": {},
     "output_type": "execute_result"
    }
   ],
   "execution_count": 3
  },
  {
   "metadata": {
    "ExecuteTime": {
     "end_time": "2025-06-29T23:41:53.908891Z",
     "start_time": "2025-06-29T23:41:53.900562Z"
    }
   },
   "cell_type": "code",
   "source": [
    "print(df.columns)\n",
    "print(df.dtypes)"
   ],
   "id": "5be06c7d260b396d",
   "outputs": [
    {
     "name": "stdout",
     "output_type": "stream",
     "text": [
      "Index(['titulo', 'bajada', 'cuerpo', 'nombre_medio', 'tipo_medio', 'fecha',\n",
      "       'seccion'],\n",
      "      dtype='object')\n",
      "titulo                  object\n",
      "bajada                  object\n",
      "cuerpo                  object\n",
      "nombre_medio            object\n",
      "tipo_medio               int64\n",
      "fecha           datetime64[ns]\n",
      "seccion                 object\n",
      "dtype: object\n"
     ]
    }
   ],
   "execution_count": 4
  },
  {
   "metadata": {
    "ExecuteTime": {
     "end_time": "2025-06-29T23:41:54.110722Z",
     "start_time": "2025-06-29T23:41:54.097292Z"
    }
   },
   "cell_type": "code",
   "source": [
    "print(f\"Dimensión: {df.shape}\")\n",
    "print(\"Nulos por columna:\\n\", df.isnull().sum())"
   ],
   "id": "64b9c978952fb605",
   "outputs": [
    {
     "name": "stdout",
     "output_type": "stream",
     "text": [
      "Dimensión: (6399, 7)\n",
      "Nulos por columna:\n",
      " titulo             0\n",
      "bajada          2537\n",
      "cuerpo             0\n",
      "nombre_medio       0\n",
      "tipo_medio         0\n",
      "fecha              0\n",
      "seccion         1053\n",
      "dtype: int64\n"
     ]
    }
   ],
   "execution_count": 5
  },
  {
   "metadata": {
    "ExecuteTime": {
     "end_time": "2025-06-29T23:41:54.225165Z",
     "start_time": "2025-06-29T23:41:54.205568Z"
    }
   },
   "cell_type": "code",
   "source": [
    "df[\"fecha\"] = pd.to_datetime(df[\"fecha\"], errors=\"coerce\")\n",
    "print(f\"Rango de fechas: {df['fecha'].min()} a {df['fecha'].max()}\")"
   ],
   "id": "44d124cafa81e145",
   "outputs": [
    {
     "name": "stdout",
     "output_type": "stream",
     "text": [
      "Rango de fechas: 2024-07-01 00:00:00 a 2025-05-31 00:00:00\n"
     ]
    }
   ],
   "execution_count": 6
  },
  {
   "metadata": {
    "ExecuteTime": {
     "end_time": "2025-06-29T23:41:54.326684Z",
     "start_time": "2025-06-29T23:41:54.273308Z"
    }
   },
   "cell_type": "code",
   "source": [
    "df[\"texto\"] = (df[\"titulo\"].fillna('') + \". \" +\n",
    "               df[\"bajada\"].fillna('') + \". \" +\n",
    "               df[\"cuerpo\"].fillna(''))\n",
    "df[\"largo_texto\"] = df[\"texto\"].apply(len)\n",
    "df[\"largo_texto\"].describe()"
   ],
   "id": "3433c5635bb29532",
   "outputs": [
    {
     "data": {
      "text/plain": [
       "count     6399.000000\n",
       "mean      3546.559306\n",
       "std       3274.277847\n",
       "min        135.000000\n",
       "25%       1597.500000\n",
       "50%       2812.000000\n",
       "75%       4353.000000\n",
       "max      33261.000000\n",
       "Name: largo_texto, dtype: float64"
      ]
     },
     "execution_count": 7,
     "metadata": {},
     "output_type": "execute_result"
    }
   ],
   "execution_count": 7
  },
  {
   "metadata": {
    "ExecuteTime": {
     "end_time": "2025-06-29T23:41:54.794110Z",
     "start_time": "2025-06-29T23:41:54.433117Z"
    }
   },
   "cell_type": "code",
   "source": [
    "plt.hist(df[\"largo_texto\"], bins=50, color='skyblue')\n",
    "plt.title(\"Distribución de longitud de textos\")\n",
    "plt.xlabel(\"Cantidad de caracteres\")\n",
    "plt.ylabel(\"Número de noticias\")\n",
    "plt.grid(True)\n",
    "plt.show()"
   ],
   "id": "a8760a28d84e4397",
   "outputs": [
    {
     "data": {
      "text/plain": [
       "<Figure size 640x480 with 1 Axes>"
      ],
      "image/png": "[encoded data removed]"
     },
     "metadata": {},
     "output_type": "display_data"
    }
   ],
   "execution_count": 8
  },
  {
   "metadata": {
    "ExecuteTime": {
     "end_time": "2025-06-29T23:41:55.391416Z",
     "start_time": "2025-06-29T23:41:54.953570Z"
    }
   },
   "cell_type": "code",
   "source": [
    "df[\"anio_mes\"] = df[\"fecha\"].dt.to_period(\"M\")\n",
    "conteo_mensual = df.groupby(\"anio_mes\").size()\n",
    "\n",
    "conteo_mensual.plot(kind=\"bar\", figsize=(14,5), color='salmon')\n",
    "plt.title(\"Cantidad de noticias por mes\")\n",
    "plt.ylabel(\"Noticias\")\n",
    "plt.xlabel(\"Año-Mes\")\n",
    "plt.xticks(rotation=45)\n",
    "plt.tight_layout()\n",
    "plt.show()"
   ],
   "id": "2ca1fe64bc9519c4",
   "outputs": [
    {
     "data": {
      "text/plain": [
       "<Figure size 1400x500 with 1 Axes>"
      ],
      "image/png": "[encoded data removed]"
     },
     "metadata": {},
     "output_type": "display_data"
    }
   ],
   "execution_count": 9
  },
  {
   "metadata": {
    "ExecuteTime": {
     "end_time": "2025-06-29T23:41:55.500185Z",
     "start_time": "2025-06-29T23:41:55.471888Z"
    }
   },
   "cell_type": "code",
   "source": [
    "print(\"Duplicados:\", df.duplicated(subset=\"texto\").sum())\n",
    "print(\"Vacíos (texto):\", df[\"texto\"].eq('').sum())"
   ],
   "id": "85c101e9045994c",
   "outputs": [
    {
     "name": "stdout",
     "output_type": "stream",
     "text": [
      "Duplicados: 661\n",
      "Vacíos (texto): 0\n"
     ]
    }
   ],
   "execution_count": 10
  },
  {
   "metadata": {
    "ExecuteTime": {
     "end_time": "2025-06-29T23:41:57.908574Z",
     "start_time": "2025-06-29T23:41:55.549536Z"
    }
   },
   "cell_type": "code",
   "source": [
    "df_limpio = df[~df[\"texto\"].eq(\"\")].drop_duplicates(subset=\"texto\")\n",
    "\n",
    "df_limpio.to_csv(\"../data/noticias_limpias.csv\", index=False)\n",
    "print(f\"Noticias limpias guardadas: {len(df_limpio)}\")"
   ],
   "id": "70a324e64b43fc0f",
   "outputs": [
    {
     "name": "stdout",
     "output_type": "stream",
     "text": [
      "Noticias limpias guardadas: 5738\n"
     ]
    }
   ],
   "execution_count": 11
  }
 ],
 "metadata": {
  "kernelspec": {
   "display_name": "Python 3",
   "language": "python",
   "name": "python3"
  },
  "language_info": {
   "codemirror_mode": {
    "name": "ipython",
    "version": 2
   },
   "file_extension": ".py",
   "mimetype": "text/x-python",
   "name": "python",
   "nbconvert_exporter": "python",
   "pygments_lexer": "ipython2",
   "version": "2.7.6"
  }
 },
 "nbformat": 4,
 "nbformat_minor": 5
}
